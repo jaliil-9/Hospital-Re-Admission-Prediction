{
  "nbformat": 4,
  "nbformat_minor": 0,
  "metadata": {
    "colab": {
      "provenance": [],
      "toc_visible": true
    },
    "kernelspec": {
      "name": "python3",
      "display_name": "Python 3"
    },
    "language_info": {
      "name": "python"
    }
  },
  "cells": [
    {
      "cell_type": "markdown",
      "source": [
        "# Import the Dependencies"
      ],
      "metadata": {
        "id": "FMkeZ5Ni6aQy"
      }
    },
    {
      "cell_type": "code",
      "source": [
        "import numpy as np\n",
        "import pandas as pd\n",
        "import matplotlib.pyplot as plt\n",
        "import seaborn as sns\n",
        "from sklearn.model_selection import train_test_split\n",
        "from sklearn.ensemble import RandomForestClassifier\n",
        "from sklearn.metrics import accuracy_score"
      ],
      "metadata": {
        "id": "1EoWjVp8R1kz"
      },
      "execution_count": null,
      "outputs": []
    },
    {
      "cell_type": "markdown",
      "source": [
        "# Data Collection and Analysis"
      ],
      "metadata": {
        "id": "4Ai21beB6d8H"
      }
    },
    {
      "cell_type": "markdown",
      "source": [
        "### Import the Dataset"
      ],
      "metadata": {
        "id": "vuQfnx4O6hAP"
      }
    },
    {
      "cell_type": "code",
      "source": [
        "dataset = pd.read_csv('/content/train.csv')"
      ],
      "metadata": {
        "id": "OuyH1f9RTwj3"
      },
      "execution_count": null,
      "outputs": []
    },
    {
      "cell_type": "markdown",
      "source": [
        "### Exploratory Data Analysis"
      ],
      "metadata": {
        "id": "UWXdyRHb6kPX"
      }
    },
    {
      "cell_type": "code",
      "source": [
        "dataset.shape"
      ],
      "metadata": {
        "colab": {
          "base_uri": "https://localhost:8080/"
        },
        "id": "wv8NyGkBT3wa",
        "outputId": "3c1068fa-0ac5-4206-be7c-c7f423c281a0"
      },
      "execution_count": null,
      "outputs": [
        {
          "output_type": "execute_result",
          "data": {
            "text/plain": [
              "(25000, 65)"
            ]
          },
          "metadata": {},
          "execution_count": 539
        }
      ]
    },
    {
      "cell_type": "markdown",
      "source": [
        "> 25000 rows, 65 columns"
      ],
      "metadata": {
        "id": "0Yn11RUr7vYV"
      }
    },
    {
      "cell_type": "code",
      "source": [
        "dataset.head()"
      ],
      "metadata": {
        "colab": {
          "base_uri": "https://localhost:8080/",
          "height": 317
        },
        "id": "nG3reLbYT-bK",
        "outputId": "5cc3bc61-4f19-4d0f-ed40-fbc826e7b08f"
      },
      "execution_count": null,
      "outputs": [
        {
          "output_type": "execute_result",
          "data": {
            "text/plain": [
              "   time_in_hospital  num_lab_procedures  num_procedures  num_medications  \\\n",
              "0                14                  41               0               11   \n",
              "1                 2                  30               0               12   \n",
              "2                 5                  66               0               22   \n",
              "3                 3                  63               0                8   \n",
              "4                 5                  40               0                6   \n",
              "\n",
              "   number_outpatient  number_emergency  number_inpatient  number_diagnoses  \\\n",
              "0                  0                 0                 0                 6   \n",
              "1                  0                 0                 1                 9   \n",
              "2                  1                 0                 2                 9   \n",
              "3                  0                 0                 0                 8   \n",
              "4                  0                 0                 1                 9   \n",
              "\n",
              "   race_Caucasian  race_AfricanAmerican  ...  citoglipton_No  insulin_No  \\\n",
              "0            True                 False  ...            True        True   \n",
              "1            True                 False  ...            True       False   \n",
              "2            True                 False  ...            True        True   \n",
              "3            True                 False  ...            True        True   \n",
              "4            True                 False  ...            True        True   \n",
              "\n",
              "   glyburide-metformin_No  glipizide-metformin_No  \\\n",
              "0                    True                    True   \n",
              "1                    True                    True   \n",
              "2                    True                    True   \n",
              "3                    True                    True   \n",
              "4                    True                    True   \n",
              "\n",
              "   glimepiride-pioglitazone_No  metformin-rosiglitazone_No  \\\n",
              "0                         True                        True   \n",
              "1                         True                        True   \n",
              "2                         True                        True   \n",
              "3                         True                        True   \n",
              "4                         True                        True   \n",
              "\n",
              "   metformin-pioglitazone_No  change_No  diabetesMed_Yes  readmitted  \n",
              "0                       True       True             True           0  \n",
              "1                       True      False             True           1  \n",
              "2                       True       True             True           1  \n",
              "3                       True       True             True           1  \n",
              "4                       True       True            False           0  \n",
              "\n",
              "[5 rows x 65 columns]"
            ],
            "text/html": [
              "\n",
              "  <div id=\"df-a0aa80b4-33c9-4bd0-990c-a8a523f687c9\">\n",
              "    <div class=\"colab-df-container\">\n",
              "      <div>\n",
              "<style scoped>\n",
              "    .dataframe tbody tr th:only-of-type {\n",
              "        vertical-align: middle;\n",
              "    }\n",
              "\n",
              "    .dataframe tbody tr th {\n",
              "        vertical-align: top;\n",
              "    }\n",
              "\n",
              "    .dataframe thead th {\n",
              "        text-align: right;\n",
              "    }\n",
              "</style>\n",
              "<table border=\"1\" class=\"dataframe\">\n",
              "  <thead>\n",
              "    <tr style=\"text-align: right;\">\n",
              "      <th></th>\n",
              "      <th>time_in_hospital</th>\n",
              "      <th>num_lab_procedures</th>\n",
              "      <th>num_procedures</th>\n",
              "      <th>num_medications</th>\n",
              "      <th>number_outpatient</th>\n",
              "      <th>number_emergency</th>\n",
              "      <th>number_inpatient</th>\n",
              "      <th>number_diagnoses</th>\n",
              "      <th>race_Caucasian</th>\n",
              "      <th>race_AfricanAmerican</th>\n",
              "      <th>...</th>\n",
              "      <th>citoglipton_No</th>\n",
              "      <th>insulin_No</th>\n",
              "      <th>glyburide-metformin_No</th>\n",
              "      <th>glipizide-metformin_No</th>\n",
              "      <th>glimepiride-pioglitazone_No</th>\n",
              "      <th>metformin-rosiglitazone_No</th>\n",
              "      <th>metformin-pioglitazone_No</th>\n",
              "      <th>change_No</th>\n",
              "      <th>diabetesMed_Yes</th>\n",
              "      <th>readmitted</th>\n",
              "    </tr>\n",
              "  </thead>\n",
              "  <tbody>\n",
              "    <tr>\n",
              "      <th>0</th>\n",
              "      <td>14</td>\n",
              "      <td>41</td>\n",
              "      <td>0</td>\n",
              "      <td>11</td>\n",
              "      <td>0</td>\n",
              "      <td>0</td>\n",
              "      <td>0</td>\n",
              "      <td>6</td>\n",
              "      <td>True</td>\n",
              "      <td>False</td>\n",
              "      <td>...</td>\n",
              "      <td>True</td>\n",
              "      <td>True</td>\n",
              "      <td>True</td>\n",
              "      <td>True</td>\n",
              "      <td>True</td>\n",
              "      <td>True</td>\n",
              "      <td>True</td>\n",
              "      <td>True</td>\n",
              "      <td>True</td>\n",
              "      <td>0</td>\n",
              "    </tr>\n",
              "    <tr>\n",
              "      <th>1</th>\n",
              "      <td>2</td>\n",
              "      <td>30</td>\n",
              "      <td>0</td>\n",
              "      <td>12</td>\n",
              "      <td>0</td>\n",
              "      <td>0</td>\n",
              "      <td>1</td>\n",
              "      <td>9</td>\n",
              "      <td>True</td>\n",
              "      <td>False</td>\n",
              "      <td>...</td>\n",
              "      <td>True</td>\n",
              "      <td>False</td>\n",
              "      <td>True</td>\n",
              "      <td>True</td>\n",
              "      <td>True</td>\n",
              "      <td>True</td>\n",
              "      <td>True</td>\n",
              "      <td>False</td>\n",
              "      <td>True</td>\n",
              "      <td>1</td>\n",
              "    </tr>\n",
              "    <tr>\n",
              "      <th>2</th>\n",
              "      <td>5</td>\n",
              "      <td>66</td>\n",
              "      <td>0</td>\n",
              "      <td>22</td>\n",
              "      <td>1</td>\n",
              "      <td>0</td>\n",
              "      <td>2</td>\n",
              "      <td>9</td>\n",
              "      <td>True</td>\n",
              "      <td>False</td>\n",
              "      <td>...</td>\n",
              "      <td>True</td>\n",
              "      <td>True</td>\n",
              "      <td>True</td>\n",
              "      <td>True</td>\n",
              "      <td>True</td>\n",
              "      <td>True</td>\n",
              "      <td>True</td>\n",
              "      <td>True</td>\n",
              "      <td>True</td>\n",
              "      <td>1</td>\n",
              "    </tr>\n",
              "    <tr>\n",
              "      <th>3</th>\n",
              "      <td>3</td>\n",
              "      <td>63</td>\n",
              "      <td>0</td>\n",
              "      <td>8</td>\n",
              "      <td>0</td>\n",
              "      <td>0</td>\n",
              "      <td>0</td>\n",
              "      <td>8</td>\n",
              "      <td>True</td>\n",
              "      <td>False</td>\n",
              "      <td>...</td>\n",
              "      <td>True</td>\n",
              "      <td>True</td>\n",
              "      <td>True</td>\n",
              "      <td>True</td>\n",
              "      <td>True</td>\n",
              "      <td>True</td>\n",
              "      <td>True</td>\n",
              "      <td>True</td>\n",
              "      <td>True</td>\n",
              "      <td>1</td>\n",
              "    </tr>\n",
              "    <tr>\n",
              "      <th>4</th>\n",
              "      <td>5</td>\n",
              "      <td>40</td>\n",
              "      <td>0</td>\n",
              "      <td>6</td>\n",
              "      <td>0</td>\n",
              "      <td>0</td>\n",
              "      <td>1</td>\n",
              "      <td>9</td>\n",
              "      <td>True</td>\n",
              "      <td>False</td>\n",
              "      <td>...</td>\n",
              "      <td>True</td>\n",
              "      <td>True</td>\n",
              "      <td>True</td>\n",
              "      <td>True</td>\n",
              "      <td>True</td>\n",
              "      <td>True</td>\n",
              "      <td>True</td>\n",
              "      <td>True</td>\n",
              "      <td>False</td>\n",
              "      <td>0</td>\n",
              "    </tr>\n",
              "  </tbody>\n",
              "</table>\n",
              "<p>5 rows × 65 columns</p>\n",
              "</div>\n",
              "      <button class=\"colab-df-convert\" onclick=\"convertToInteractive('df-a0aa80b4-33c9-4bd0-990c-a8a523f687c9')\"\n",
              "              title=\"Convert this dataframe to an interactive table.\"\n",
              "              style=\"display:none;\">\n",
              "        \n",
              "  <svg xmlns=\"http://www.w3.org/2000/svg\" height=\"24px\"viewBox=\"0 0 24 24\"\n",
              "       width=\"24px\">\n",
              "    <path d=\"M0 0h24v24H0V0z\" fill=\"none\"/>\n",
              "    <path d=\"M18.56 5.44l.94 2.06.94-2.06 2.06-.94-2.06-.94-.94-2.06-.94 2.06-2.06.94zm-11 1L8.5 8.5l.94-2.06 2.06-.94-2.06-.94L8.5 2.5l-.94 2.06-2.06.94zm10 10l.94 2.06.94-2.06 2.06-.94-2.06-.94-.94-2.06-.94 2.06-2.06.94z\"/><path d=\"M17.41 7.96l-1.37-1.37c-.4-.4-.92-.59-1.43-.59-.52 0-1.04.2-1.43.59L10.3 9.45l-7.72 7.72c-.78.78-.78 2.05 0 2.83L4 21.41c.39.39.9.59 1.41.59.51 0 1.02-.2 1.41-.59l7.78-7.78 2.81-2.81c.8-.78.8-2.07 0-2.86zM5.41 20L4 18.59l7.72-7.72 1.47 1.35L5.41 20z\"/>\n",
              "  </svg>\n",
              "      </button>\n",
              "      \n",
              "  <style>\n",
              "    .colab-df-container {\n",
              "      display:flex;\n",
              "      flex-wrap:wrap;\n",
              "      gap: 12px;\n",
              "    }\n",
              "\n",
              "    .colab-df-convert {\n",
              "      background-color: #E8F0FE;\n",
              "      border: none;\n",
              "      border-radius: 50%;\n",
              "      cursor: pointer;\n",
              "      display: none;\n",
              "      fill: #1967D2;\n",
              "      height: 32px;\n",
              "      padding: 0 0 0 0;\n",
              "      width: 32px;\n",
              "    }\n",
              "\n",
              "    .colab-df-convert:hover {\n",
              "      background-color: #E2EBFA;\n",
              "      box-shadow: 0px 1px 2px rgba(60, 64, 67, 0.3), 0px 1px 3px 1px rgba(60, 64, 67, 0.15);\n",
              "      fill: #174EA6;\n",
              "    }\n",
              "\n",
              "    [theme=dark] .colab-df-convert {\n",
              "      background-color: #3B4455;\n",
              "      fill: #D2E3FC;\n",
              "    }\n",
              "\n",
              "    [theme=dark] .colab-df-convert:hover {\n",
              "      background-color: #434B5C;\n",
              "      box-shadow: 0px 1px 3px 1px rgba(0, 0, 0, 0.15);\n",
              "      filter: drop-shadow(0px 1px 2px rgba(0, 0, 0, 0.3));\n",
              "      fill: #FFFFFF;\n",
              "    }\n",
              "  </style>\n",
              "\n",
              "      <script>\n",
              "        const buttonEl =\n",
              "          document.querySelector('#df-a0aa80b4-33c9-4bd0-990c-a8a523f687c9 button.colab-df-convert');\n",
              "        buttonEl.style.display =\n",
              "          google.colab.kernel.accessAllowed ? 'block' : 'none';\n",
              "\n",
              "        async function convertToInteractive(key) {\n",
              "          const element = document.querySelector('#df-a0aa80b4-33c9-4bd0-990c-a8a523f687c9');\n",
              "          const dataTable =\n",
              "            await google.colab.kernel.invokeFunction('convertToInteractive',\n",
              "                                                     [key], {});\n",
              "          if (!dataTable) return;\n",
              "\n",
              "          const docLinkHtml = 'Like what you see? Visit the ' +\n",
              "            '<a target=\"_blank\" href=https://colab.research.google.com/notebooks/data_table.ipynb>data table notebook</a>'\n",
              "            + ' to learn more about interactive tables.';\n",
              "          element.innerHTML = '';\n",
              "          dataTable['output_type'] = 'display_data';\n",
              "          await google.colab.output.renderOutput(dataTable, element);\n",
              "          const docLink = document.createElement('div');\n",
              "          docLink.innerHTML = docLinkHtml;\n",
              "          element.appendChild(docLink);\n",
              "        }\n",
              "      </script>\n",
              "    </div>\n",
              "  </div>\n",
              "  "
            ]
          },
          "metadata": {},
          "execution_count": 540
        }
      ]
    },
    {
      "cell_type": "code",
      "source": [
        "dataset.drop(dataset.columns[17:22], axis=1,inplace=True)"
      ],
      "metadata": {
        "id": "Lhx6reXv-taM"
      },
      "execution_count": null,
      "outputs": []
    },
    {
      "cell_type": "code",
      "source": [
        "dataset.head()"
      ],
      "metadata": {
        "colab": {
          "base_uri": "https://localhost:8080/",
          "height": 317
        },
        "id": "Mua2PYwYYgqu",
        "outputId": "cbb75eda-2de8-4721-b773-361827768543"
      },
      "execution_count": null,
      "outputs": [
        {
          "output_type": "execute_result",
          "data": {
            "text/plain": [
              "   time_in_hospital  num_lab_procedures  num_procedures  num_medications  \\\n",
              "0                14                  41               0               11   \n",
              "1                 2                  30               0               12   \n",
              "2                 5                  66               0               22   \n",
              "3                 3                  63               0                8   \n",
              "4                 5                  40               0                6   \n",
              "\n",
              "   number_outpatient  number_emergency  number_inpatient  number_diagnoses  \\\n",
              "0                  0                 0                 0                 6   \n",
              "1                  0                 0                 1                 9   \n",
              "2                  1                 0                 2                 9   \n",
              "3                  0                 0                 0                 8   \n",
              "4                  0                 0                 1                 9   \n",
              "\n",
              "   race_Caucasian  race_AfricanAmerican  ...  citoglipton_No  insulin_No  \\\n",
              "0            True                 False  ...            True        True   \n",
              "1            True                 False  ...            True       False   \n",
              "2            True                 False  ...            True        True   \n",
              "3            True                 False  ...            True        True   \n",
              "4            True                 False  ...            True        True   \n",
              "\n",
              "   glyburide-metformin_No  glipizide-metformin_No  \\\n",
              "0                    True                    True   \n",
              "1                    True                    True   \n",
              "2                    True                    True   \n",
              "3                    True                    True   \n",
              "4                    True                    True   \n",
              "\n",
              "   glimepiride-pioglitazone_No  metformin-rosiglitazone_No  \\\n",
              "0                         True                        True   \n",
              "1                         True                        True   \n",
              "2                         True                        True   \n",
              "3                         True                        True   \n",
              "4                         True                        True   \n",
              "\n",
              "   metformin-pioglitazone_No  change_No  diabetesMed_Yes  readmitted  \n",
              "0                       True       True             True           0  \n",
              "1                       True      False             True           1  \n",
              "2                       True       True             True           1  \n",
              "3                       True       True             True           1  \n",
              "4                       True       True            False           0  \n",
              "\n",
              "[5 rows x 60 columns]"
            ],
            "text/html": [
              "\n",
              "  <div id=\"df-2158b60e-0d35-48f5-9333-0c6fbc57a354\">\n",
              "    <div class=\"colab-df-container\">\n",
              "      <div>\n",
              "<style scoped>\n",
              "    .dataframe tbody tr th:only-of-type {\n",
              "        vertical-align: middle;\n",
              "    }\n",
              "\n",
              "    .dataframe tbody tr th {\n",
              "        vertical-align: top;\n",
              "    }\n",
              "\n",
              "    .dataframe thead th {\n",
              "        text-align: right;\n",
              "    }\n",
              "</style>\n",
              "<table border=\"1\" class=\"dataframe\">\n",
              "  <thead>\n",
              "    <tr style=\"text-align: right;\">\n",
              "      <th></th>\n",
              "      <th>time_in_hospital</th>\n",
              "      <th>num_lab_procedures</th>\n",
              "      <th>num_procedures</th>\n",
              "      <th>num_medications</th>\n",
              "      <th>number_outpatient</th>\n",
              "      <th>number_emergency</th>\n",
              "      <th>number_inpatient</th>\n",
              "      <th>number_diagnoses</th>\n",
              "      <th>race_Caucasian</th>\n",
              "      <th>race_AfricanAmerican</th>\n",
              "      <th>...</th>\n",
              "      <th>citoglipton_No</th>\n",
              "      <th>insulin_No</th>\n",
              "      <th>glyburide-metformin_No</th>\n",
              "      <th>glipizide-metformin_No</th>\n",
              "      <th>glimepiride-pioglitazone_No</th>\n",
              "      <th>metformin-rosiglitazone_No</th>\n",
              "      <th>metformin-pioglitazone_No</th>\n",
              "      <th>change_No</th>\n",
              "      <th>diabetesMed_Yes</th>\n",
              "      <th>readmitted</th>\n",
              "    </tr>\n",
              "  </thead>\n",
              "  <tbody>\n",
              "    <tr>\n",
              "      <th>0</th>\n",
              "      <td>14</td>\n",
              "      <td>41</td>\n",
              "      <td>0</td>\n",
              "      <td>11</td>\n",
              "      <td>0</td>\n",
              "      <td>0</td>\n",
              "      <td>0</td>\n",
              "      <td>6</td>\n",
              "      <td>True</td>\n",
              "      <td>False</td>\n",
              "      <td>...</td>\n",
              "      <td>True</td>\n",
              "      <td>True</td>\n",
              "      <td>True</td>\n",
              "      <td>True</td>\n",
              "      <td>True</td>\n",
              "      <td>True</td>\n",
              "      <td>True</td>\n",
              "      <td>True</td>\n",
              "      <td>True</td>\n",
              "      <td>0</td>\n",
              "    </tr>\n",
              "    <tr>\n",
              "      <th>1</th>\n",
              "      <td>2</td>\n",
              "      <td>30</td>\n",
              "      <td>0</td>\n",
              "      <td>12</td>\n",
              "      <td>0</td>\n",
              "      <td>0</td>\n",
              "      <td>1</td>\n",
              "      <td>9</td>\n",
              "      <td>True</td>\n",
              "      <td>False</td>\n",
              "      <td>...</td>\n",
              "      <td>True</td>\n",
              "      <td>False</td>\n",
              "      <td>True</td>\n",
              "      <td>True</td>\n",
              "      <td>True</td>\n",
              "      <td>True</td>\n",
              "      <td>True</td>\n",
              "      <td>False</td>\n",
              "      <td>True</td>\n",
              "      <td>1</td>\n",
              "    </tr>\n",
              "    <tr>\n",
              "      <th>2</th>\n",
              "      <td>5</td>\n",
              "      <td>66</td>\n",
              "      <td>0</td>\n",
              "      <td>22</td>\n",
              "      <td>1</td>\n",
              "      <td>0</td>\n",
              "      <td>2</td>\n",
              "      <td>9</td>\n",
              "      <td>True</td>\n",
              "      <td>False</td>\n",
              "      <td>...</td>\n",
              "      <td>True</td>\n",
              "      <td>True</td>\n",
              "      <td>True</td>\n",
              "      <td>True</td>\n",
              "      <td>True</td>\n",
              "      <td>True</td>\n",
              "      <td>True</td>\n",
              "      <td>True</td>\n",
              "      <td>True</td>\n",
              "      <td>1</td>\n",
              "    </tr>\n",
              "    <tr>\n",
              "      <th>3</th>\n",
              "      <td>3</td>\n",
              "      <td>63</td>\n",
              "      <td>0</td>\n",
              "      <td>8</td>\n",
              "      <td>0</td>\n",
              "      <td>0</td>\n",
              "      <td>0</td>\n",
              "      <td>8</td>\n",
              "      <td>True</td>\n",
              "      <td>False</td>\n",
              "      <td>...</td>\n",
              "      <td>True</td>\n",
              "      <td>True</td>\n",
              "      <td>True</td>\n",
              "      <td>True</td>\n",
              "      <td>True</td>\n",
              "      <td>True</td>\n",
              "      <td>True</td>\n",
              "      <td>True</td>\n",
              "      <td>True</td>\n",
              "      <td>1</td>\n",
              "    </tr>\n",
              "    <tr>\n",
              "      <th>4</th>\n",
              "      <td>5</td>\n",
              "      <td>40</td>\n",
              "      <td>0</td>\n",
              "      <td>6</td>\n",
              "      <td>0</td>\n",
              "      <td>0</td>\n",
              "      <td>1</td>\n",
              "      <td>9</td>\n",
              "      <td>True</td>\n",
              "      <td>False</td>\n",
              "      <td>...</td>\n",
              "      <td>True</td>\n",
              "      <td>True</td>\n",
              "      <td>True</td>\n",
              "      <td>True</td>\n",
              "      <td>True</td>\n",
              "      <td>True</td>\n",
              "      <td>True</td>\n",
              "      <td>True</td>\n",
              "      <td>False</td>\n",
              "      <td>0</td>\n",
              "    </tr>\n",
              "  </tbody>\n",
              "</table>\n",
              "<p>5 rows × 60 columns</p>\n",
              "</div>\n",
              "      <button class=\"colab-df-convert\" onclick=\"convertToInteractive('df-2158b60e-0d35-48f5-9333-0c6fbc57a354')\"\n",
              "              title=\"Convert this dataframe to an interactive table.\"\n",
              "              style=\"display:none;\">\n",
              "        \n",
              "  <svg xmlns=\"http://www.w3.org/2000/svg\" height=\"24px\"viewBox=\"0 0 24 24\"\n",
              "       width=\"24px\">\n",
              "    <path d=\"M0 0h24v24H0V0z\" fill=\"none\"/>\n",
              "    <path d=\"M18.56 5.44l.94 2.06.94-2.06 2.06-.94-2.06-.94-.94-2.06-.94 2.06-2.06.94zm-11 1L8.5 8.5l.94-2.06 2.06-.94-2.06-.94L8.5 2.5l-.94 2.06-2.06.94zm10 10l.94 2.06.94-2.06 2.06-.94-2.06-.94-.94-2.06-.94 2.06-2.06.94z\"/><path d=\"M17.41 7.96l-1.37-1.37c-.4-.4-.92-.59-1.43-.59-.52 0-1.04.2-1.43.59L10.3 9.45l-7.72 7.72c-.78.78-.78 2.05 0 2.83L4 21.41c.39.39.9.59 1.41.59.51 0 1.02-.2 1.41-.59l7.78-7.78 2.81-2.81c.8-.78.8-2.07 0-2.86zM5.41 20L4 18.59l7.72-7.72 1.47 1.35L5.41 20z\"/>\n",
              "  </svg>\n",
              "      </button>\n",
              "      \n",
              "  <style>\n",
              "    .colab-df-container {\n",
              "      display:flex;\n",
              "      flex-wrap:wrap;\n",
              "      gap: 12px;\n",
              "    }\n",
              "\n",
              "    .colab-df-convert {\n",
              "      background-color: #E8F0FE;\n",
              "      border: none;\n",
              "      border-radius: 50%;\n",
              "      cursor: pointer;\n",
              "      display: none;\n",
              "      fill: #1967D2;\n",
              "      height: 32px;\n",
              "      padding: 0 0 0 0;\n",
              "      width: 32px;\n",
              "    }\n",
              "\n",
              "    .colab-df-convert:hover {\n",
              "      background-color: #E2EBFA;\n",
              "      box-shadow: 0px 1px 2px rgba(60, 64, 67, 0.3), 0px 1px 3px 1px rgba(60, 64, 67, 0.15);\n",
              "      fill: #174EA6;\n",
              "    }\n",
              "\n",
              "    [theme=dark] .colab-df-convert {\n",
              "      background-color: #3B4455;\n",
              "      fill: #D2E3FC;\n",
              "    }\n",
              "\n",
              "    [theme=dark] .colab-df-convert:hover {\n",
              "      background-color: #434B5C;\n",
              "      box-shadow: 0px 1px 3px 1px rgba(0, 0, 0, 0.15);\n",
              "      filter: drop-shadow(0px 1px 2px rgba(0, 0, 0, 0.3));\n",
              "      fill: #FFFFFF;\n",
              "    }\n",
              "  </style>\n",
              "\n",
              "      <script>\n",
              "        const buttonEl =\n",
              "          document.querySelector('#df-2158b60e-0d35-48f5-9333-0c6fbc57a354 button.colab-df-convert');\n",
              "        buttonEl.style.display =\n",
              "          google.colab.kernel.accessAllowed ? 'block' : 'none';\n",
              "\n",
              "        async function convertToInteractive(key) {\n",
              "          const element = document.querySelector('#df-2158b60e-0d35-48f5-9333-0c6fbc57a354');\n",
              "          const dataTable =\n",
              "            await google.colab.kernel.invokeFunction('convertToInteractive',\n",
              "                                                     [key], {});\n",
              "          if (!dataTable) return;\n",
              "\n",
              "          const docLinkHtml = 'Like what you see? Visit the ' +\n",
              "            '<a target=\"_blank\" href=https://colab.research.google.com/notebooks/data_table.ipynb>data table notebook</a>'\n",
              "            + ' to learn more about interactive tables.';\n",
              "          element.innerHTML = '';\n",
              "          dataTable['output_type'] = 'display_data';\n",
              "          await google.colab.output.renderOutput(dataTable, element);\n",
              "          const docLink = document.createElement('div');\n",
              "          docLink.innerHTML = docLinkHtml;\n",
              "          element.appendChild(docLink);\n",
              "        }\n",
              "      </script>\n",
              "    </div>\n",
              "  </div>\n",
              "  "
            ]
          },
          "metadata": {},
          "execution_count": 542
        }
      ]
    },
    {
      "cell_type": "code",
      "source": [
        "dataset.shape"
      ],
      "metadata": {
        "id": "S7YsT0ULaI2I",
        "colab": {
          "base_uri": "https://localhost:8080/"
        },
        "outputId": "a152fe60-0583-4831-c92f-5e2ac5462907"
      },
      "execution_count": null,
      "outputs": [
        {
          "output_type": "execute_result",
          "data": {
            "text/plain": [
              "(25000, 60)"
            ]
          },
          "metadata": {},
          "execution_count": 543
        }
      ]
    },
    {
      "cell_type": "markdown",
      "source": [
        "> 25000 rows, 60 columns"
      ],
      "metadata": {
        "id": "2kX8i3x972dV"
      }
    },
    {
      "cell_type": "code",
      "source": [
        "dataset.info()"
      ],
      "metadata": {
        "colab": {
          "base_uri": "https://localhost:8080/"
        },
        "id": "7byATgwDDHsP",
        "outputId": "e56472c5-a28b-490d-cd07-f569ca45e99d"
      },
      "execution_count": null,
      "outputs": [
        {
          "output_type": "stream",
          "name": "stdout",
          "text": [
            "<class 'pandas.core.frame.DataFrame'>\n",
            "RangeIndex: 25000 entries, 0 to 24999\n",
            "Data columns (total 60 columns):\n",
            " #   Column                                    Non-Null Count  Dtype\n",
            "---  ------                                    --------------  -----\n",
            " 0   time_in_hospital                          25000 non-null  int64\n",
            " 1   num_lab_procedures                        25000 non-null  int64\n",
            " 2   num_procedures                            25000 non-null  int64\n",
            " 3   num_medications                           25000 non-null  int64\n",
            " 4   number_outpatient                         25000 non-null  int64\n",
            " 5   number_emergency                          25000 non-null  int64\n",
            " 6   number_inpatient                          25000 non-null  int64\n",
            " 7   number_diagnoses                          25000 non-null  int64\n",
            " 8   race_Caucasian                            25000 non-null  bool \n",
            " 9   race_AfricanAmerican                      25000 non-null  bool \n",
            " 10  gender_Female                             25000 non-null  bool \n",
            " 11  age_[70-80)                               25000 non-null  bool \n",
            " 12  age_[60-70)                               25000 non-null  bool \n",
            " 13  age_[50-60)                               25000 non-null  bool \n",
            " 14  age_[80-90)                               25000 non-null  bool \n",
            " 15  age_[40-50)                               25000 non-null  bool \n",
            " 16  payer_code_?                              25000 non-null  bool \n",
            " 17  medical_specialty_InternalMedicine        25000 non-null  bool \n",
            " 18  medical_specialty_Emergency/Trauma        25000 non-null  bool \n",
            " 19  medical_specialty_Family/GeneralPractice  25000 non-null  bool \n",
            " 20  medical_specialty_Cardiology              25000 non-null  bool \n",
            " 21  diag_1_428                                25000 non-null  bool \n",
            " 22  diag_1_414                                25000 non-null  bool \n",
            " 23  diag_1_786                                25000 non-null  bool \n",
            " 24  diag_2_276                                25000 non-null  bool \n",
            " 25  diag_2_428                                25000 non-null  bool \n",
            " 26  diag_2_250                                25000 non-null  bool \n",
            " 27  diag_2_427                                25000 non-null  bool \n",
            " 28  diag_3_250                                25000 non-null  bool \n",
            " 29  diag_3_401                                25000 non-null  bool \n",
            " 30  diag_3_276                                25000 non-null  bool \n",
            " 31  diag_3_428                                25000 non-null  bool \n",
            " 32  max_glu_serum_None                        25000 non-null  bool \n",
            " 33  A1Cresult_None                            25000 non-null  bool \n",
            " 34  metformin_No                              25000 non-null  bool \n",
            " 35  repaglinide_No                            25000 non-null  bool \n",
            " 36  nateglinide_No                            25000 non-null  bool \n",
            " 37  chlorpropamide_No                         25000 non-null  bool \n",
            " 38  glimepiride_No                            25000 non-null  bool \n",
            " 39  acetohexamide_No                          25000 non-null  bool \n",
            " 40  glipizide_No                              25000 non-null  bool \n",
            " 41  glyburide_No                              25000 non-null  bool \n",
            " 42  tolbutamide_No                            25000 non-null  bool \n",
            " 43  pioglitazone_No                           25000 non-null  bool \n",
            " 44  rosiglitazone_No                          25000 non-null  bool \n",
            " 45  acarbose_No                               25000 non-null  bool \n",
            " 46  miglitol_No                               25000 non-null  bool \n",
            " 47  troglitazone_No                           25000 non-null  bool \n",
            " 48  tolazamide_No                             25000 non-null  bool \n",
            " 49  examide_No                                25000 non-null  bool \n",
            " 50  citoglipton_No                            25000 non-null  bool \n",
            " 51  insulin_No                                25000 non-null  bool \n",
            " 52  glyburide-metformin_No                    25000 non-null  bool \n",
            " 53  glipizide-metformin_No                    25000 non-null  bool \n",
            " 54  glimepiride-pioglitazone_No               25000 non-null  bool \n",
            " 55  metformin-rosiglitazone_No                25000 non-null  bool \n",
            " 56  metformin-pioglitazone_No                 25000 non-null  bool \n",
            " 57  change_No                                 25000 non-null  bool \n",
            " 58  diabetesMed_Yes                           25000 non-null  bool \n",
            " 59  readmitted                                25000 non-null  int64\n",
            "dtypes: bool(51), int64(9)\n",
            "memory usage: 2.9 MB\n"
          ]
        }
      ]
    },
    {
      "cell_type": "code",
      "source": [
        "dataset['readmitted'].value_counts()"
      ],
      "metadata": {
        "colab": {
          "base_uri": "https://localhost:8080/"
        },
        "id": "4ztKYIr5D_uD",
        "outputId": "814be469-0d6f-47ca-d0f8-887124b7e6c7"
      },
      "execution_count": null,
      "outputs": [
        {
          "output_type": "execute_result",
          "data": {
            "text/plain": [
              "0    13590\n",
              "1    11410\n",
              "Name: readmitted, dtype: int64"
            ]
          },
          "metadata": {},
          "execution_count": 545
        }
      ]
    },
    {
      "cell_type": "markdown",
      "source": [
        "> 0 => Not readmitted\n",
        "\n",
        "> 1 => readmitted"
      ],
      "metadata": {
        "id": "f5PfrhTK78Hb"
      }
    },
    {
      "cell_type": "code",
      "source": [
        "dataset.isnull().sum()"
      ],
      "metadata": {
        "colab": {
          "base_uri": "https://localhost:8080/"
        },
        "id": "HcvV0QK6FAc3",
        "outputId": "f73b5051-a478-491c-cb06-1ab8c80f5660"
      },
      "execution_count": null,
      "outputs": [
        {
          "output_type": "execute_result",
          "data": {
            "text/plain": [
              "time_in_hospital                            0\n",
              "num_lab_procedures                          0\n",
              "num_procedures                              0\n",
              "num_medications                             0\n",
              "number_outpatient                           0\n",
              "number_emergency                            0\n",
              "number_inpatient                            0\n",
              "number_diagnoses                            0\n",
              "race_Caucasian                              0\n",
              "race_AfricanAmerican                        0\n",
              "gender_Female                               0\n",
              "age_[70-80)                                 0\n",
              "age_[60-70)                                 0\n",
              "age_[50-60)                                 0\n",
              "age_[80-90)                                 0\n",
              "age_[40-50)                                 0\n",
              "payer_code_?                                0\n",
              "medical_specialty_InternalMedicine          0\n",
              "medical_specialty_Emergency/Trauma          0\n",
              "medical_specialty_Family/GeneralPractice    0\n",
              "medical_specialty_Cardiology                0\n",
              "diag_1_428                                  0\n",
              "diag_1_414                                  0\n",
              "diag_1_786                                  0\n",
              "diag_2_276                                  0\n",
              "diag_2_428                                  0\n",
              "diag_2_250                                  0\n",
              "diag_2_427                                  0\n",
              "diag_3_250                                  0\n",
              "diag_3_401                                  0\n",
              "diag_3_276                                  0\n",
              "diag_3_428                                  0\n",
              "max_glu_serum_None                          0\n",
              "A1Cresult_None                              0\n",
              "metformin_No                                0\n",
              "repaglinide_No                              0\n",
              "nateglinide_No                              0\n",
              "chlorpropamide_No                           0\n",
              "glimepiride_No                              0\n",
              "acetohexamide_No                            0\n",
              "glipizide_No                                0\n",
              "glyburide_No                                0\n",
              "tolbutamide_No                              0\n",
              "pioglitazone_No                             0\n",
              "rosiglitazone_No                            0\n",
              "acarbose_No                                 0\n",
              "miglitol_No                                 0\n",
              "troglitazone_No                             0\n",
              "tolazamide_No                               0\n",
              "examide_No                                  0\n",
              "citoglipton_No                              0\n",
              "insulin_No                                  0\n",
              "glyburide-metformin_No                      0\n",
              "glipizide-metformin_No                      0\n",
              "glimepiride-pioglitazone_No                 0\n",
              "metformin-rosiglitazone_No                  0\n",
              "metformin-pioglitazone_No                   0\n",
              "change_No                                   0\n",
              "diabetesMed_Yes                             0\n",
              "readmitted                                  0\n",
              "dtype: int64"
            ]
          },
          "metadata": {},
          "execution_count": 546
        }
      ]
    },
    {
      "cell_type": "code",
      "source": [
        "dataset.describe()"
      ],
      "metadata": {
        "colab": {
          "base_uri": "https://localhost:8080/",
          "height": 364
        },
        "id": "8CvhiTWpFdks",
        "outputId": "d718a948-3517-4262-be1e-51ab30a94e40"
      },
      "execution_count": null,
      "outputs": [
        {
          "output_type": "execute_result",
          "data": {
            "text/plain": [
              "       time_in_hospital  num_lab_procedures  num_procedures  num_medications  \\\n",
              "count      25000.000000         25000.00000    25000.000000     25000.000000   \n",
              "mean           4.395640            42.96012        1.341080        15.988440   \n",
              "std            2.991165            19.76881        1.705398         8.107743   \n",
              "min            1.000000             1.00000        0.000000         1.000000   \n",
              "25%            2.000000            31.00000        0.000000        10.000000   \n",
              "50%            4.000000            44.00000        1.000000        15.000000   \n",
              "75%            6.000000            57.00000        2.000000        20.000000   \n",
              "max           14.000000           126.00000        6.000000        81.000000   \n",
              "\n",
              "       number_outpatient  number_emergency  number_inpatient  \\\n",
              "count       25000.000000      25000.000000       25000.00000   \n",
              "mean            0.365920          0.203280           0.64300   \n",
              "std             1.224419          0.982973           1.26286   \n",
              "min             0.000000          0.000000           0.00000   \n",
              "25%             0.000000          0.000000           0.00000   \n",
              "50%             0.000000          0.000000           0.00000   \n",
              "75%             0.000000          0.000000           1.00000   \n",
              "max            36.000000         64.000000          21.00000   \n",
              "\n",
              "       number_diagnoses    readmitted  \n",
              "count      25000.000000  25000.000000  \n",
              "mean           7.420160      0.456400  \n",
              "std            1.940932      0.498105  \n",
              "min            1.000000      0.000000  \n",
              "25%            6.000000      0.000000  \n",
              "50%            8.000000      0.000000  \n",
              "75%            9.000000      1.000000  \n",
              "max           16.000000      1.000000  "
            ],
            "text/html": [
              "\n",
              "  <div id=\"df-ad746563-72f4-49da-a95a-13c9d73b1863\">\n",
              "    <div class=\"colab-df-container\">\n",
              "      <div>\n",
              "<style scoped>\n",
              "    .dataframe tbody tr th:only-of-type {\n",
              "        vertical-align: middle;\n",
              "    }\n",
              "\n",
              "    .dataframe tbody tr th {\n",
              "        vertical-align: top;\n",
              "    }\n",
              "\n",
              "    .dataframe thead th {\n",
              "        text-align: right;\n",
              "    }\n",
              "</style>\n",
              "<table border=\"1\" class=\"dataframe\">\n",
              "  <thead>\n",
              "    <tr style=\"text-align: right;\">\n",
              "      <th></th>\n",
              "      <th>time_in_hospital</th>\n",
              "      <th>num_lab_procedures</th>\n",
              "      <th>num_procedures</th>\n",
              "      <th>num_medications</th>\n",
              "      <th>number_outpatient</th>\n",
              "      <th>number_emergency</th>\n",
              "      <th>number_inpatient</th>\n",
              "      <th>number_diagnoses</th>\n",
              "      <th>readmitted</th>\n",
              "    </tr>\n",
              "  </thead>\n",
              "  <tbody>\n",
              "    <tr>\n",
              "      <th>count</th>\n",
              "      <td>25000.000000</td>\n",
              "      <td>25000.00000</td>\n",
              "      <td>25000.000000</td>\n",
              "      <td>25000.000000</td>\n",
              "      <td>25000.000000</td>\n",
              "      <td>25000.000000</td>\n",
              "      <td>25000.00000</td>\n",
              "      <td>25000.000000</td>\n",
              "      <td>25000.000000</td>\n",
              "    </tr>\n",
              "    <tr>\n",
              "      <th>mean</th>\n",
              "      <td>4.395640</td>\n",
              "      <td>42.96012</td>\n",
              "      <td>1.341080</td>\n",
              "      <td>15.988440</td>\n",
              "      <td>0.365920</td>\n",
              "      <td>0.203280</td>\n",
              "      <td>0.64300</td>\n",
              "      <td>7.420160</td>\n",
              "      <td>0.456400</td>\n",
              "    </tr>\n",
              "    <tr>\n",
              "      <th>std</th>\n",
              "      <td>2.991165</td>\n",
              "      <td>19.76881</td>\n",
              "      <td>1.705398</td>\n",
              "      <td>8.107743</td>\n",
              "      <td>1.224419</td>\n",
              "      <td>0.982973</td>\n",
              "      <td>1.26286</td>\n",
              "      <td>1.940932</td>\n",
              "      <td>0.498105</td>\n",
              "    </tr>\n",
              "    <tr>\n",
              "      <th>min</th>\n",
              "      <td>1.000000</td>\n",
              "      <td>1.00000</td>\n",
              "      <td>0.000000</td>\n",
              "      <td>1.000000</td>\n",
              "      <td>0.000000</td>\n",
              "      <td>0.000000</td>\n",
              "      <td>0.00000</td>\n",
              "      <td>1.000000</td>\n",
              "      <td>0.000000</td>\n",
              "    </tr>\n",
              "    <tr>\n",
              "      <th>25%</th>\n",
              "      <td>2.000000</td>\n",
              "      <td>31.00000</td>\n",
              "      <td>0.000000</td>\n",
              "      <td>10.000000</td>\n",
              "      <td>0.000000</td>\n",
              "      <td>0.000000</td>\n",
              "      <td>0.00000</td>\n",
              "      <td>6.000000</td>\n",
              "      <td>0.000000</td>\n",
              "    </tr>\n",
              "    <tr>\n",
              "      <th>50%</th>\n",
              "      <td>4.000000</td>\n",
              "      <td>44.00000</td>\n",
              "      <td>1.000000</td>\n",
              "      <td>15.000000</td>\n",
              "      <td>0.000000</td>\n",
              "      <td>0.000000</td>\n",
              "      <td>0.00000</td>\n",
              "      <td>8.000000</td>\n",
              "      <td>0.000000</td>\n",
              "    </tr>\n",
              "    <tr>\n",
              "      <th>75%</th>\n",
              "      <td>6.000000</td>\n",
              "      <td>57.00000</td>\n",
              "      <td>2.000000</td>\n",
              "      <td>20.000000</td>\n",
              "      <td>0.000000</td>\n",
              "      <td>0.000000</td>\n",
              "      <td>1.00000</td>\n",
              "      <td>9.000000</td>\n",
              "      <td>1.000000</td>\n",
              "    </tr>\n",
              "    <tr>\n",
              "      <th>max</th>\n",
              "      <td>14.000000</td>\n",
              "      <td>126.00000</td>\n",
              "      <td>6.000000</td>\n",
              "      <td>81.000000</td>\n",
              "      <td>36.000000</td>\n",
              "      <td>64.000000</td>\n",
              "      <td>21.00000</td>\n",
              "      <td>16.000000</td>\n",
              "      <td>1.000000</td>\n",
              "    </tr>\n",
              "  </tbody>\n",
              "</table>\n",
              "</div>\n",
              "      <button class=\"colab-df-convert\" onclick=\"convertToInteractive('df-ad746563-72f4-49da-a95a-13c9d73b1863')\"\n",
              "              title=\"Convert this dataframe to an interactive table.\"\n",
              "              style=\"display:none;\">\n",
              "        \n",
              "  <svg xmlns=\"http://www.w3.org/2000/svg\" height=\"24px\"viewBox=\"0 0 24 24\"\n",
              "       width=\"24px\">\n",
              "    <path d=\"M0 0h24v24H0V0z\" fill=\"none\"/>\n",
              "    <path d=\"M18.56 5.44l.94 2.06.94-2.06 2.06-.94-2.06-.94-.94-2.06-.94 2.06-2.06.94zm-11 1L8.5 8.5l.94-2.06 2.06-.94-2.06-.94L8.5 2.5l-.94 2.06-2.06.94zm10 10l.94 2.06.94-2.06 2.06-.94-2.06-.94-.94-2.06-.94 2.06-2.06.94z\"/><path d=\"M17.41 7.96l-1.37-1.37c-.4-.4-.92-.59-1.43-.59-.52 0-1.04.2-1.43.59L10.3 9.45l-7.72 7.72c-.78.78-.78 2.05 0 2.83L4 21.41c.39.39.9.59 1.41.59.51 0 1.02-.2 1.41-.59l7.78-7.78 2.81-2.81c.8-.78.8-2.07 0-2.86zM5.41 20L4 18.59l7.72-7.72 1.47 1.35L5.41 20z\"/>\n",
              "  </svg>\n",
              "      </button>\n",
              "      \n",
              "  <style>\n",
              "    .colab-df-container {\n",
              "      display:flex;\n",
              "      flex-wrap:wrap;\n",
              "      gap: 12px;\n",
              "    }\n",
              "\n",
              "    .colab-df-convert {\n",
              "      background-color: #E8F0FE;\n",
              "      border: none;\n",
              "      border-radius: 50%;\n",
              "      cursor: pointer;\n",
              "      display: none;\n",
              "      fill: #1967D2;\n",
              "      height: 32px;\n",
              "      padding: 0 0 0 0;\n",
              "      width: 32px;\n",
              "    }\n",
              "\n",
              "    .colab-df-convert:hover {\n",
              "      background-color: #E2EBFA;\n",
              "      box-shadow: 0px 1px 2px rgba(60, 64, 67, 0.3), 0px 1px 3px 1px rgba(60, 64, 67, 0.15);\n",
              "      fill: #174EA6;\n",
              "    }\n",
              "\n",
              "    [theme=dark] .colab-df-convert {\n",
              "      background-color: #3B4455;\n",
              "      fill: #D2E3FC;\n",
              "    }\n",
              "\n",
              "    [theme=dark] .colab-df-convert:hover {\n",
              "      background-color: #434B5C;\n",
              "      box-shadow: 0px 1px 3px 1px rgba(0, 0, 0, 0.15);\n",
              "      filter: drop-shadow(0px 1px 2px rgba(0, 0, 0, 0.3));\n",
              "      fill: #FFFFFF;\n",
              "    }\n",
              "  </style>\n",
              "\n",
              "      <script>\n",
              "        const buttonEl =\n",
              "          document.querySelector('#df-ad746563-72f4-49da-a95a-13c9d73b1863 button.colab-df-convert');\n",
              "        buttonEl.style.display =\n",
              "          google.colab.kernel.accessAllowed ? 'block' : 'none';\n",
              "\n",
              "        async function convertToInteractive(key) {\n",
              "          const element = document.querySelector('#df-ad746563-72f4-49da-a95a-13c9d73b1863');\n",
              "          const dataTable =\n",
              "            await google.colab.kernel.invokeFunction('convertToInteractive',\n",
              "                                                     [key], {});\n",
              "          if (!dataTable) return;\n",
              "\n",
              "          const docLinkHtml = 'Like what you see? Visit the ' +\n",
              "            '<a target=\"_blank\" href=https://colab.research.google.com/notebooks/data_table.ipynb>data table notebook</a>'\n",
              "            + ' to learn more about interactive tables.';\n",
              "          element.innerHTML = '';\n",
              "          dataTable['output_type'] = 'display_data';\n",
              "          await google.colab.output.renderOutput(dataTable, element);\n",
              "          const docLink = document.createElement('div');\n",
              "          docLink.innerHTML = docLinkHtml;\n",
              "          element.appendChild(docLink);\n",
              "        }\n",
              "      </script>\n",
              "    </div>\n",
              "  </div>\n",
              "  "
            ]
          },
          "metadata": {},
          "execution_count": 547
        }
      ]
    },
    {
      "cell_type": "code",
      "source": [
        "dataset.groupby('readmitted').mean()"
      ],
      "metadata": {
        "colab": {
          "base_uri": "https://localhost:8080/",
          "height": 254
        },
        "id": "Wi7G2M6uH9YK",
        "outputId": "e025775b-775e-4899-b612-2b54542d8ead"
      },
      "execution_count": null,
      "outputs": [
        {
          "output_type": "execute_result",
          "data": {
            "text/plain": [
              "            time_in_hospital  num_lab_procedures  num_procedures  \\\n",
              "readmitted                                                         \n",
              "0                   4.237822           42.233996        1.419132   \n",
              "1                   4.583611           43.824978        1.248116   \n",
              "\n",
              "            num_medications  number_outpatient  number_emergency  \\\n",
              "readmitted                                                         \n",
              "0                 15.569610           0.268212          0.112656   \n",
              "1                 16.487292           0.482296          0.311218   \n",
              "\n",
              "            number_inpatient  number_diagnoses  race_Caucasian  \\\n",
              "readmitted                                                       \n",
              "0                   0.392494          7.200662        0.731273   \n",
              "1                   0.941367          7.681595        0.755039   \n",
              "\n",
              "            race_AfricanAmerican  ...  examide_No  citoglipton_No  insulin_No  \\\n",
              "readmitted                        ...                                           \n",
              "0                       0.192494  ...         1.0             1.0    0.490802   \n",
              "1                       0.192901  ...         1.0             1.0    0.442331   \n",
              "\n",
              "            glyburide-metformin_No  glipizide-metformin_No  \\\n",
              "readmitted                                                   \n",
              "0                         0.994923                0.999926   \n",
              "1                         0.992112                0.999737   \n",
              "\n",
              "            glimepiride-pioglitazone_No  metformin-rosiglitazone_No  \\\n",
              "readmitted                                                            \n",
              "0                              1.000000                         1.0   \n",
              "1                              0.999912                         1.0   \n",
              "\n",
              "            metformin-pioglitazone_No  change_No  diabetesMed_Yes  \n",
              "readmitted                                                         \n",
              "0                                 1.0   0.565489         0.744224  \n",
              "1                                 1.0   0.515337         0.795004  \n",
              "\n",
              "[2 rows x 59 columns]"
            ],
            "text/html": [
              "\n",
              "  <div id=\"df-001ecda6-32a0-46ee-8a9b-2af002135d43\">\n",
              "    <div class=\"colab-df-container\">\n",
              "      <div>\n",
              "<style scoped>\n",
              "    .dataframe tbody tr th:only-of-type {\n",
              "        vertical-align: middle;\n",
              "    }\n",
              "\n",
              "    .dataframe tbody tr th {\n",
              "        vertical-align: top;\n",
              "    }\n",
              "\n",
              "    .dataframe thead th {\n",
              "        text-align: right;\n",
              "    }\n",
              "</style>\n",
              "<table border=\"1\" class=\"dataframe\">\n",
              "  <thead>\n",
              "    <tr style=\"text-align: right;\">\n",
              "      <th></th>\n",
              "      <th>time_in_hospital</th>\n",
              "      <th>num_lab_procedures</th>\n",
              "      <th>num_procedures</th>\n",
              "      <th>num_medications</th>\n",
              "      <th>number_outpatient</th>\n",
              "      <th>number_emergency</th>\n",
              "      <th>number_inpatient</th>\n",
              "      <th>number_diagnoses</th>\n",
              "      <th>race_Caucasian</th>\n",
              "      <th>race_AfricanAmerican</th>\n",
              "      <th>...</th>\n",
              "      <th>examide_No</th>\n",
              "      <th>citoglipton_No</th>\n",
              "      <th>insulin_No</th>\n",
              "      <th>glyburide-metformin_No</th>\n",
              "      <th>glipizide-metformin_No</th>\n",
              "      <th>glimepiride-pioglitazone_No</th>\n",
              "      <th>metformin-rosiglitazone_No</th>\n",
              "      <th>metformin-pioglitazone_No</th>\n",
              "      <th>change_No</th>\n",
              "      <th>diabetesMed_Yes</th>\n",
              "    </tr>\n",
              "    <tr>\n",
              "      <th>readmitted</th>\n",
              "      <th></th>\n",
              "      <th></th>\n",
              "      <th></th>\n",
              "      <th></th>\n",
              "      <th></th>\n",
              "      <th></th>\n",
              "      <th></th>\n",
              "      <th></th>\n",
              "      <th></th>\n",
              "      <th></th>\n",
              "      <th></th>\n",
              "      <th></th>\n",
              "      <th></th>\n",
              "      <th></th>\n",
              "      <th></th>\n",
              "      <th></th>\n",
              "      <th></th>\n",
              "      <th></th>\n",
              "      <th></th>\n",
              "      <th></th>\n",
              "      <th></th>\n",
              "    </tr>\n",
              "  </thead>\n",
              "  <tbody>\n",
              "    <tr>\n",
              "      <th>0</th>\n",
              "      <td>4.237822</td>\n",
              "      <td>42.233996</td>\n",
              "      <td>1.419132</td>\n",
              "      <td>15.569610</td>\n",
              "      <td>0.268212</td>\n",
              "      <td>0.112656</td>\n",
              "      <td>0.392494</td>\n",
              "      <td>7.200662</td>\n",
              "      <td>0.731273</td>\n",
              "      <td>0.192494</td>\n",
              "      <td>...</td>\n",
              "      <td>1.0</td>\n",
              "      <td>1.0</td>\n",
              "      <td>0.490802</td>\n",
              "      <td>0.994923</td>\n",
              "      <td>0.999926</td>\n",
              "      <td>1.000000</td>\n",
              "      <td>1.0</td>\n",
              "      <td>1.0</td>\n",
              "      <td>0.565489</td>\n",
              "      <td>0.744224</td>\n",
              "    </tr>\n",
              "    <tr>\n",
              "      <th>1</th>\n",
              "      <td>4.583611</td>\n",
              "      <td>43.824978</td>\n",
              "      <td>1.248116</td>\n",
              "      <td>16.487292</td>\n",
              "      <td>0.482296</td>\n",
              "      <td>0.311218</td>\n",
              "      <td>0.941367</td>\n",
              "      <td>7.681595</td>\n",
              "      <td>0.755039</td>\n",
              "      <td>0.192901</td>\n",
              "      <td>...</td>\n",
              "      <td>1.0</td>\n",
              "      <td>1.0</td>\n",
              "      <td>0.442331</td>\n",
              "      <td>0.992112</td>\n",
              "      <td>0.999737</td>\n",
              "      <td>0.999912</td>\n",
              "      <td>1.0</td>\n",
              "      <td>1.0</td>\n",
              "      <td>0.515337</td>\n",
              "      <td>0.795004</td>\n",
              "    </tr>\n",
              "  </tbody>\n",
              "</table>\n",
              "<p>2 rows × 59 columns</p>\n",
              "</div>\n",
              "      <button class=\"colab-df-convert\" onclick=\"convertToInteractive('df-001ecda6-32a0-46ee-8a9b-2af002135d43')\"\n",
              "              title=\"Convert this dataframe to an interactive table.\"\n",
              "              style=\"display:none;\">\n",
              "        \n",
              "  <svg xmlns=\"http://www.w3.org/2000/svg\" height=\"24px\"viewBox=\"0 0 24 24\"\n",
              "       width=\"24px\">\n",
              "    <path d=\"M0 0h24v24H0V0z\" fill=\"none\"/>\n",
              "    <path d=\"M18.56 5.44l.94 2.06.94-2.06 2.06-.94-2.06-.94-.94-2.06-.94 2.06-2.06.94zm-11 1L8.5 8.5l.94-2.06 2.06-.94-2.06-.94L8.5 2.5l-.94 2.06-2.06.94zm10 10l.94 2.06.94-2.06 2.06-.94-2.06-.94-.94-2.06-.94 2.06-2.06.94z\"/><path d=\"M17.41 7.96l-1.37-1.37c-.4-.4-.92-.59-1.43-.59-.52 0-1.04.2-1.43.59L10.3 9.45l-7.72 7.72c-.78.78-.78 2.05 0 2.83L4 21.41c.39.39.9.59 1.41.59.51 0 1.02-.2 1.41-.59l7.78-7.78 2.81-2.81c.8-.78.8-2.07 0-2.86zM5.41 20L4 18.59l7.72-7.72 1.47 1.35L5.41 20z\"/>\n",
              "  </svg>\n",
              "      </button>\n",
              "      \n",
              "  <style>\n",
              "    .colab-df-container {\n",
              "      display:flex;\n",
              "      flex-wrap:wrap;\n",
              "      gap: 12px;\n",
              "    }\n",
              "\n",
              "    .colab-df-convert {\n",
              "      background-color: #E8F0FE;\n",
              "      border: none;\n",
              "      border-radius: 50%;\n",
              "      cursor: pointer;\n",
              "      display: none;\n",
              "      fill: #1967D2;\n",
              "      height: 32px;\n",
              "      padding: 0 0 0 0;\n",
              "      width: 32px;\n",
              "    }\n",
              "\n",
              "    .colab-df-convert:hover {\n",
              "      background-color: #E2EBFA;\n",
              "      box-shadow: 0px 1px 2px rgba(60, 64, 67, 0.3), 0px 1px 3px 1px rgba(60, 64, 67, 0.15);\n",
              "      fill: #174EA6;\n",
              "    }\n",
              "\n",
              "    [theme=dark] .colab-df-convert {\n",
              "      background-color: #3B4455;\n",
              "      fill: #D2E3FC;\n",
              "    }\n",
              "\n",
              "    [theme=dark] .colab-df-convert:hover {\n",
              "      background-color: #434B5C;\n",
              "      box-shadow: 0px 1px 3px 1px rgba(0, 0, 0, 0.15);\n",
              "      filter: drop-shadow(0px 1px 2px rgba(0, 0, 0, 0.3));\n",
              "      fill: #FFFFFF;\n",
              "    }\n",
              "  </style>\n",
              "\n",
              "      <script>\n",
              "        const buttonEl =\n",
              "          document.querySelector('#df-001ecda6-32a0-46ee-8a9b-2af002135d43 button.colab-df-convert');\n",
              "        buttonEl.style.display =\n",
              "          google.colab.kernel.accessAllowed ? 'block' : 'none';\n",
              "\n",
              "        async function convertToInteractive(key) {\n",
              "          const element = document.querySelector('#df-001ecda6-32a0-46ee-8a9b-2af002135d43');\n",
              "          const dataTable =\n",
              "            await google.colab.kernel.invokeFunction('convertToInteractive',\n",
              "                                                     [key], {});\n",
              "          if (!dataTable) return;\n",
              "\n",
              "          const docLinkHtml = 'Like what you see? Visit the ' +\n",
              "            '<a target=\"_blank\" href=https://colab.research.google.com/notebooks/data_table.ipynb>data table notebook</a>'\n",
              "            + ' to learn more about interactive tables.';\n",
              "          element.innerHTML = '';\n",
              "          dataTable['output_type'] = 'display_data';\n",
              "          await google.colab.output.renderOutput(dataTable, element);\n",
              "          const docLink = document.createElement('div');\n",
              "          docLink.innerHTML = docLinkHtml;\n",
              "          element.appendChild(docLink);\n",
              "        }\n",
              "      </script>\n",
              "    </div>\n",
              "  </div>\n",
              "  "
            ]
          },
          "metadata": {},
          "execution_count": 548
        }
      ]
    },
    {
      "cell_type": "markdown",
      "source": [
        "### Data VIsualization "
      ],
      "metadata": {
        "id": "U_kY1MFg8IzJ"
      }
    },
    {
      "cell_type": "code",
      "source": [
        "sns.countplot(x='time_in_hospital', hue='readmitted', data=dataset)"
      ],
      "metadata": {
        "colab": {
          "base_uri": "https://localhost:8080/",
          "height": 467
        },
        "id": "iTEVOuq4Fh5q",
        "outputId": "1faf662d-bfc4-4433-f8c3-5b5f28f48cd6"
      },
      "execution_count": null,
      "outputs": [
        {
          "output_type": "execute_result",
          "data": {
            "text/plain": [
              "<Axes: xlabel='time_in_hospital', ylabel='count'>"
            ]
          },
          "metadata": {},
          "execution_count": 549
        },
        {
          "output_type": "display_data",
          "data": {
            "text/plain": [
              "<Figure size 640x480 with 1 Axes>"
            ],
            "image/png": "[encoded data removed]"
          },
          "metadata": {}
        }
      ]
    },
    {
      "cell_type": "code",
      "source": [
        "sns.countplot(x='num_procedures', hue='readmitted', data=dataset)"
      ],
      "metadata": {
        "colab": {
          "base_uri": "https://localhost:8080/",
          "height": 467
        },
        "id": "bILaTvSZGPSr",
        "outputId": "d3a0ebdc-0145-4e14-9a8d-f283a30e78b9"
      },
      "execution_count": null,
      "outputs": [
        {
          "output_type": "execute_result",
          "data": {
            "text/plain": [
              "<Axes: xlabel='num_procedures', ylabel='count'>"
            ]
          },
          "metadata": {},
          "execution_count": 550
        },
        {
          "output_type": "display_data",
          "data": {
            "text/plain": [
              "<Figure size 640x480 with 1 Axes>"
            ],
            "image/png": "[encoded data removed]"
          },
          "metadata": {}
        }
      ]
    },
    {
      "cell_type": "markdown",
      "source": [
        "# Pre-Processing"
      ],
      "metadata": {
        "id": "rl-j3Z_G6rNn"
      }
    },
    {
      "cell_type": "markdown",
      "source": [
        "### Replace Categorical with Numerical"
      ],
      "metadata": {
        "id": "N_9pbrvU6uAX"
      }
    },
    {
      "cell_type": "code",
      "source": [
        "columns = dataset.columns[8:58]\n",
        "dataset = pd.get_dummies(dataset, columns=columns)"
      ],
      "metadata": {
        "id": "Lk9V9y5EDLAe"
      },
      "execution_count": null,
      "outputs": []
    },
    {
      "cell_type": "code",
      "source": [
        "dataset.info()"
      ],
      "metadata": {
        "id": "4nh8ZWmKAr_0",
        "colab": {
          "base_uri": "https://localhost:8080/"
        },
        "outputId": "66edf5a4-f5b7-4e60-e0ab-50f8d55ecc7f"
      },
      "execution_count": null,
      "outputs": [
        {
          "output_type": "stream",
          "name": "stdout",
          "text": [
            "<class 'pandas.core.frame.DataFrame'>\n",
            "RangeIndex: 25000 entries, 0 to 24999\n",
            "Columns: 105 entries, time_in_hospital to change_No_True\n",
            "dtypes: bool(1), int64(9), uint8(95)\n",
            "memory usage: 4.0 MB\n"
          ]
        }
      ]
    },
    {
      "cell_type": "markdown",
      "source": [
        "### Splitting features and target"
      ],
      "metadata": {
        "id": "A9kCo_-l7AZk"
      }
    },
    {
      "cell_type": "code",
      "source": [
        "X = dataset.drop('readmitted', axis=1)\n",
        "y = dataset['readmitted']"
      ],
      "metadata": {
        "id": "m_OoaWEIGwjV"
      },
      "execution_count": null,
      "outputs": []
    },
    {
      "cell_type": "markdown",
      "source": [
        "### Standardizing the features"
      ],
      "metadata": {
        "id": "RPwi-GzT7VC9"
      }
    },
    {
      "cell_type": "code",
      "source": [
        "from sklearn.preprocessing import StandardScaler\n",
        "\n",
        "scaler = StandardScaler()\n",
        "X = scaler.fit_transform(X)"
      ],
      "metadata": {
        "id": "pw96YH3mgs3c"
      },
      "execution_count": null,
      "outputs": []
    },
    {
      "cell_type": "markdown",
      "source": [
        "### Split to train and test "
      ],
      "metadata": {
        "id": "YO6bZ1YG7Ha8"
      }
    },
    {
      "cell_type": "code",
      "source": [
        "X_train, X_test, y_train, y_test = train_test_split(X, y, random_state=19)"
      ],
      "metadata": {
        "id": "ns7HNWchVYH8"
      },
      "execution_count": null,
      "outputs": []
    },
    {
      "cell_type": "code",
      "source": [
        "X.shape, X_train.shape, X_test.shape"
      ],
      "metadata": {
        "colab": {
          "base_uri": "https://localhost:8080/"
        },
        "id": "khU6kMnKISV8",
        "outputId": "05442519-bb8c-49b3-e43a-5bd2b3f52dc8"
      },
      "execution_count": null,
      "outputs": [
        {
          "output_type": "execute_result",
          "data": {
            "text/plain": [
              "((25000, 104), (18750, 104), (6250, 104))"
            ]
          },
          "metadata": {},
          "execution_count": 561
        }
      ]
    },
    {
      "cell_type": "markdown",
      "source": [
        "# Train"
      ],
      "metadata": {
        "id": "P4PSKEVE7Kuu"
      }
    },
    {
      "cell_type": "markdown",
      "source": [
        "### RandomForestClassifier"
      ],
      "metadata": {
        "id": "y6QhxRPV7a4F"
      }
    },
    {
      "cell_type": "code",
      "source": [
        "model = RandomForestClassifier(n_estimators=500, max_depth=15)\n",
        "model.fit(X_train, y_train)"
      ],
      "metadata": {
        "colab": {
          "base_uri": "https://localhost:8080/",
          "height": 74
        },
        "id": "-RgHjTrGVfWl",
        "outputId": "a10e7272-6c02-4ebc-bbf4-050ba40fe1cb"
      },
      "execution_count": null,
      "outputs": [
        {
          "output_type": "execute_result",
          "data": {
            "text/plain": [
              "RandomForestClassifier(max_depth=15, n_estimators=500)"
            ],
            "text/html": [
              "<style>#sk-container-id-88 {color: black;background-color: white;}#sk-container-id-88 pre{padding: 0;}#sk-container-id-88 div.sk-toggleable {background-color: white;}#sk-container-id-88 label.sk-toggleable__label {cursor: pointer;display: block;width: 100%;margin-bottom: 0;padding: 0.3em;box-sizing: border-box;text-align: center;}#sk-container-id-88 label.sk-toggleable__label-arrow:before {content: \"▸\";float: left;margin-right: 0.25em;color: #696969;}#sk-container-id-88 label.sk-toggleable__label-arrow:hover:before {color: black;}#sk-container-id-88 div.sk-estimator:hover label.sk-toggleable__label-arrow:before {color: black;}#sk-container-id-88 div.sk-toggleable__content {max-height: 0;max-width: 0;overflow: hidden;text-align: left;background-color: #f0f8ff;}#sk-container-id-88 div.sk-toggleable__content pre {margin: 0.2em;color: black;border-radius: 0.25em;background-color: #f0f8ff;}#sk-container-id-88 input.sk-toggleable__control:checked~div.sk-toggleable__content {max-height: 200px;max-width: 100%;overflow: auto;}#sk-container-id-88 input.sk-toggleable__control:checked~label.sk-toggleable__label-arrow:before {content: \"▾\";}#sk-container-id-88 div.sk-estimator input.sk-toggleable__control:checked~label.sk-toggleable__label {background-color: #d4ebff;}#sk-container-id-88 div.sk-label input.sk-toggleable__control:checked~label.sk-toggleable__label {background-color: #d4ebff;}#sk-container-id-88 input.sk-hidden--visually {border: 0;clip: rect(1px 1px 1px 1px);clip: rect(1px, 1px, 1px, 1px);height: 1px;margin: -1px;overflow: hidden;padding: 0;position: absolute;width: 1px;}#sk-container-id-88 div.sk-estimator {font-family: monospace;background-color: #f0f8ff;border: 1px dotted black;border-radius: 0.25em;box-sizing: border-box;margin-bottom: 0.5em;}#sk-container-id-88 div.sk-estimator:hover {background-color: #d4ebff;}#sk-container-id-88 div.sk-parallel-item::after {content: \"\";width: 100%;border-bottom: 1px solid gray;flex-grow: 1;}#sk-container-id-88 div.sk-label:hover label.sk-toggleable__label {background-color: #d4ebff;}#sk-container-id-88 div.sk-serial::before {content: \"\";position: absolute;border-left: 1px solid gray;box-sizing: border-box;top: 0;bottom: 0;left: 50%;z-index: 0;}#sk-container-id-88 div.sk-serial {display: flex;flex-direction: column;align-items: center;background-color: white;padding-right: 0.2em;padding-left: 0.2em;position: relative;}#sk-container-id-88 div.sk-item {position: relative;z-index: 1;}#sk-container-id-88 div.sk-parallel {display: flex;align-items: stretch;justify-content: center;background-color: white;position: relative;}#sk-container-id-88 div.sk-item::before, #sk-container-id-88 div.sk-parallel-item::before {content: \"\";position: absolute;border-left: 1px solid gray;box-sizing: border-box;top: 0;bottom: 0;left: 50%;z-index: -1;}#sk-container-id-88 div.sk-parallel-item {display: flex;flex-direction: column;z-index: 1;position: relative;background-color: white;}#sk-container-id-88 div.sk-parallel-item:first-child::after {align-self: flex-end;width: 50%;}#sk-container-id-88 div.sk-parallel-item:last-child::after {align-self: flex-start;width: 50%;}#sk-container-id-88 div.sk-parallel-item:only-child::after {width: 0;}#sk-container-id-88 div.sk-dashed-wrapped {border: 1px dashed gray;margin: 0 0.4em 0.5em 0.4em;box-sizing: border-box;padding-bottom: 0.4em;background-color: white;}#sk-container-id-88 div.sk-label label {font-family: monospace;font-weight: bold;display: inline-block;line-height: 1.2em;}#sk-container-id-88 div.sk-label-container {text-align: center;}#sk-container-id-88 div.sk-container {/* jupyter's `normalize.less` sets `[hidden] { display: none; }` but bootstrap.min.css set `[hidden] { display: none !important; }` so we also need the `!important` here to be able to override the default hidden behavior on the sphinx rendered scikit-learn.org. See: https://github.com/scikit-learn/scikit-learn/issues/21755 */display: inline-block !important;position: relative;}#sk-container-id-88 div.sk-text-repr-fallback {display: none;}</style><div id=\"sk-container-id-88\" class=\"sk-top-container\"><div class=\"sk-text-repr-fallback\"><pre>RandomForestClassifier(max_depth=15, n_estimators=500)</pre><b>In a Jupyter environment, please rerun this cell to show the HTML representation or trust the notebook. <br />On GitHub, the HTML representation is unable to render, please try loading this page with nbviewer.org.</b></div><div class=\"sk-container\" hidden><div class=\"sk-item\"><div class=\"sk-estimator sk-toggleable\"><input class=\"sk-toggleable__control sk-hidden--visually\" id=\"sk-estimator-id-88\" type=\"checkbox\" checked><label for=\"sk-estimator-id-88\" class=\"sk-toggleable__label sk-toggleable__label-arrow\">RandomForestClassifier</label><div class=\"sk-toggleable__content\"><pre>RandomForestClassifier(max_depth=15, n_estimators=500)</pre></div></div></div></div></div>"
            ]
          },
          "metadata": {},
          "execution_count": 562
        }
      ]
    },
    {
      "cell_type": "markdown",
      "source": [
        "# Model Evaluation"
      ],
      "metadata": {
        "id": "OTSVW8yU7i61"
      }
    },
    {
      "cell_type": "code",
      "source": [
        "y_pred_train = model.predict(X_train)\n",
        "train_acc = accuracy_score(y_pred_train, y_train)\n",
        "\n",
        "y_pred_test = model.predict(X_test)\n",
        "test_acc = accuracy_score(y_pred_test, y_test)\n",
        "\n",
        "train_acc, test_acc"
      ],
      "metadata": {
        "colab": {
          "base_uri": "https://localhost:8080/"
        },
        "id": "Ghmf54aYVmAB",
        "outputId": "f310c303-0045-4e3e-bf2d-cd809ce28a63"
      },
      "execution_count": null,
      "outputs": [
        {
          "output_type": "execute_result",
          "data": {
            "text/plain": [
              "(0.8365866666666667, 0.64112)"
            ]
          },
          "metadata": {},
          "execution_count": 563
        }
      ]
    },
    {
      "cell_type": "markdown",
      "source": [
        "> The Model got an accuracy equals to 64% on data it never seen before"
      ],
      "metadata": {
        "id": "c9zLE21YBQLU"
      }
    }
  ]
}